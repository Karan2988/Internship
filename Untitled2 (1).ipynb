{
 "cells": [
  {
   "cell_type": "code",
   "execution_count": 188,
   "id": "a47e9fe5-59ce-4d00-b056-3f9427ce239a",
   "metadata": {},
   "outputs": [],
   "source": [
    "import pandas as pd\n",
    "import regex as re"
   ]
  },
  {
   "cell_type": "markdown",
   "id": "270990ff-0c9c-44f2-8c23-98134e9d3461",
   "metadata": {},
   "source": [
    "# Question 1- Write a Python program to replace all occurrences of a space, comma, or dot with a colon.\r",
    "# \n",
    "Sample Text- 'Python Exercises, PHP exercises.'\r\n",
    "Expected Output: Python:Exercises::PHP:exercises:\r\n"
   ]
  },
  {
   "cell_type": "code",
   "execution_count": 199,
   "id": "589bf60f-2476-4101-98ff-f462952f03d5",
   "metadata": {},
   "outputs": [],
   "source": [
    "t_1='Python Exercises, PHP exercises.'"
   ]
  },
  {
   "cell_type": "code",
   "execution_count": 201,
   "id": "8e114c0e-6d68-4a4b-9a3c-af6110cd5f2b",
   "metadata": {},
   "outputs": [
    {
     "name": "stderr",
     "output_type": "stream",
     "text": [
      "<>:1: SyntaxWarning: invalid escape sequence '\\s'\n",
      "<>:1: SyntaxWarning: invalid escape sequence '\\s'\n",
      "C:\\Users\\Tejasvini Patil\\AppData\\Local\\Temp\\ipykernel_2432\\1340968925.py:1: SyntaxWarning: invalid escape sequence '\\s'\n",
      "  patten=re.compile('\\s|,|\\.')\n"
     ]
    },
    {
     "data": {
      "text/plain": [
       "'Python:Exercises::PHP:exercises:'"
      ]
     },
     "execution_count": 201,
     "metadata": {},
     "output_type": "execute_result"
    }
   ],
   "source": [
    "patten=re.compile('\\s|,|\\.')\n",
    "match_1=re.sub(patten,\":\",t_1)\n",
    "match_1"
   ]
  },
  {
   "cell_type": "markdown",
   "id": "14134bf9-3283-4b4a-8148-33da7b605d33",
   "metadata": {},
   "source": [
    "# Question 2-  Create a dataframe using the dictionary below and remove everything (commas (,), !, XXXX, ;, etc.) from the columns except words.\n",
    "# Dictionary- {'SUMMARY' : ['hello, world!', 'XXXXX test', '123four, five:; six...']}\n",
    "# Expected output-\n",
    "# 0      hello world\n",
    "# 1             test\n",
    "# 2    four five six\n"
   ]
  },
  {
   "cell_type": "code",
   "execution_count": 54,
   "id": "f3597908-d5f5-41cb-9219-4ec0cbf9e18c",
   "metadata": {},
   "outputs": [
    {
     "name": "stdout",
     "output_type": "stream",
     "text": [
      "         SUMMARY\n",
      "0    hello world\n",
      "1           test\n",
      "2  four five six\n"
     ]
    }
   ],
   "source": [
    "Dictionary= {'SUMMARY' : ['hello, world!', 'XXXXX test', '123four, five:; six...']}\n",
    "q2=pd.DataFrame(Dictionary)\n",
    "\n",
    "patten_2=re.compile('[A-Z0-9,!;:|.]+')\n",
    "def m2(text):\n",
    "    return re.sub(patten_2,\"\",text)\n",
    "\n",
    "q2['SUMMARY']=q2['SUMMARY'].apply(m2)\n",
    "\n",
    "print(q2)"
   ]
  },
  {
   "cell_type": "code",
   "execution_count": null,
   "id": "928e863b-d274-401b-acca-af68e0044a6f",
   "metadata": {},
   "outputs": [],
   "source": []
  },
  {
   "cell_type": "markdown",
   "id": "c246b104-f017-4929-b278-66af2c51bd69",
   "metadata": {},
   "source": [
    "# Question 3- Create a function in python to find all words that are at least 4 characters long in a string. The use of the re.compile() method is mandatory."
   ]
  },
  {
   "cell_type": "code",
   "execution_count": 57,
   "id": "9f8d3d91-b1c3-4842-bb05-c3a701f2c82b",
   "metadata": {},
   "outputs": [],
   "source": [
    "t3='Create a function in python to find all words that are at least 4 characters long in a string. The use of the re.compile() method is mandatory.'"
   ]
  },
  {
   "cell_type": "code",
   "execution_count": 73,
   "id": "8f8eb311-fa84-4792-8d9e-1597d68b8fe6",
   "metadata": {},
   "outputs": [
    {
     "name": "stderr",
     "output_type": "stream",
     "text": [
      "<>:1: SyntaxWarning: invalid escape sequence '\\w'\n",
      "<>:1: SyntaxWarning: invalid escape sequence '\\w'\n",
      "C:\\Users\\Tejasvini Patil\\AppData\\Local\\Temp\\ipykernel_2724\\1074991886.py:1: SyntaxWarning: invalid escape sequence '\\w'\n",
      "  patten_3=re.compile('\\w{4,}')\n"
     ]
    },
    {
     "data": {
      "text/html": [
       "<div>\n",
       "<style scoped>\n",
       "    .dataframe tbody tr th:only-of-type {\n",
       "        vertical-align: middle;\n",
       "    }\n",
       "\n",
       "    .dataframe tbody tr th {\n",
       "        vertical-align: top;\n",
       "    }\n",
       "\n",
       "    .dataframe thead th {\n",
       "        text-align: right;\n",
       "    }\n",
       "</style>\n",
       "<table border=\"1\" class=\"dataframe\">\n",
       "  <thead>\n",
       "    <tr style=\"text-align: right;\">\n",
       "      <th></th>\n",
       "      <th>0</th>\n",
       "    </tr>\n",
       "  </thead>\n",
       "  <tbody>\n",
       "    <tr>\n",
       "      <th>0</th>\n",
       "      <td>Create</td>\n",
       "    </tr>\n",
       "    <tr>\n",
       "      <th>1</th>\n",
       "      <td>function</td>\n",
       "    </tr>\n",
       "    <tr>\n",
       "      <th>2</th>\n",
       "      <td>python</td>\n",
       "    </tr>\n",
       "    <tr>\n",
       "      <th>3</th>\n",
       "      <td>find</td>\n",
       "    </tr>\n",
       "    <tr>\n",
       "      <th>4</th>\n",
       "      <td>words</td>\n",
       "    </tr>\n",
       "    <tr>\n",
       "      <th>5</th>\n",
       "      <td>that</td>\n",
       "    </tr>\n",
       "    <tr>\n",
       "      <th>6</th>\n",
       "      <td>least</td>\n",
       "    </tr>\n",
       "    <tr>\n",
       "      <th>7</th>\n",
       "      <td>characters</td>\n",
       "    </tr>\n",
       "    <tr>\n",
       "      <th>8</th>\n",
       "      <td>long</td>\n",
       "    </tr>\n",
       "    <tr>\n",
       "      <th>9</th>\n",
       "      <td>string</td>\n",
       "    </tr>\n",
       "    <tr>\n",
       "      <th>10</th>\n",
       "      <td>compile</td>\n",
       "    </tr>\n",
       "    <tr>\n",
       "      <th>11</th>\n",
       "      <td>method</td>\n",
       "    </tr>\n",
       "    <tr>\n",
       "      <th>12</th>\n",
       "      <td>mandatory</td>\n",
       "    </tr>\n",
       "  </tbody>\n",
       "</table>\n",
       "</div>"
      ],
      "text/plain": [
       "             0\n",
       "0       Create\n",
       "1     function\n",
       "2       python\n",
       "3         find\n",
       "4        words\n",
       "5         that\n",
       "6        least\n",
       "7   characters\n",
       "8         long\n",
       "9       string\n",
       "10     compile\n",
       "11      method\n",
       "12   mandatory"
      ]
     },
     "execution_count": 73,
     "metadata": {},
     "output_type": "execute_result"
    }
   ],
   "source": [
    "patten_3=re.compile('\\w{4,}')\n",
    "match_3=re.findall(patten_3,t3)\n",
    "match_3=pd.DataFrame(match_3)\n",
    "match_3"
   ]
  },
  {
   "cell_type": "markdown",
   "id": "716391d4-afad-434d-95d7-26684620953d",
   "metadata": {},
   "source": [
    "# Question 4- Create a function in python to find all three, four, and five character words in a string. The use of the re.compile() method is mandatory."
   ]
  },
  {
   "cell_type": "code",
   "execution_count": 76,
   "id": "af755a20-7a8b-403e-83be-f49a56a03bff",
   "metadata": {},
   "outputs": [],
   "source": [
    "t4='Create a function in python to find all three, four, and five character words in a string. The use of the re.compile() method is mandatory.'"
   ]
  },
  {
   "cell_type": "code",
   "execution_count": 80,
   "id": "65423b85-3cdd-4ec2-96e8-23a299b5d4be",
   "metadata": {},
   "outputs": [
    {
     "name": "stderr",
     "output_type": "stream",
     "text": [
      "<>:1: SyntaxWarning: invalid escape sequence '\\w'\n",
      "<>:1: SyntaxWarning: invalid escape sequence '\\w'\n",
      "C:\\Users\\Tejasvini Patil\\AppData\\Local\\Temp\\ipykernel_2724\\3709819663.py:1: SyntaxWarning: invalid escape sequence '\\w'\n",
      "  patten_4=re.compile('\\w{3,5}')\n"
     ]
    },
    {
     "data": {
      "text/html": [
       "<div>\n",
       "<style scoped>\n",
       "    .dataframe tbody tr th:only-of-type {\n",
       "        vertical-align: middle;\n",
       "    }\n",
       "\n",
       "    .dataframe tbody tr th {\n",
       "        vertical-align: top;\n",
       "    }\n",
       "\n",
       "    .dataframe thead th {\n",
       "        text-align: right;\n",
       "    }\n",
       "</style>\n",
       "<table border=\"1\" class=\"dataframe\">\n",
       "  <thead>\n",
       "    <tr style=\"text-align: right;\">\n",
       "      <th></th>\n",
       "      <th>0</th>\n",
       "    </tr>\n",
       "  </thead>\n",
       "  <tbody>\n",
       "    <tr>\n",
       "      <th>0</th>\n",
       "      <td>Creat</td>\n",
       "    </tr>\n",
       "    <tr>\n",
       "      <th>1</th>\n",
       "      <td>funct</td>\n",
       "    </tr>\n",
       "    <tr>\n",
       "      <th>2</th>\n",
       "      <td>ion</td>\n",
       "    </tr>\n",
       "    <tr>\n",
       "      <th>3</th>\n",
       "      <td>pytho</td>\n",
       "    </tr>\n",
       "    <tr>\n",
       "      <th>4</th>\n",
       "      <td>find</td>\n",
       "    </tr>\n",
       "    <tr>\n",
       "      <th>5</th>\n",
       "      <td>all</td>\n",
       "    </tr>\n",
       "    <tr>\n",
       "      <th>6</th>\n",
       "      <td>three</td>\n",
       "    </tr>\n",
       "    <tr>\n",
       "      <th>7</th>\n",
       "      <td>four</td>\n",
       "    </tr>\n",
       "    <tr>\n",
       "      <th>8</th>\n",
       "      <td>and</td>\n",
       "    </tr>\n",
       "    <tr>\n",
       "      <th>9</th>\n",
       "      <td>five</td>\n",
       "    </tr>\n",
       "    <tr>\n",
       "      <th>10</th>\n",
       "      <td>chara</td>\n",
       "    </tr>\n",
       "    <tr>\n",
       "      <th>11</th>\n",
       "      <td>cter</td>\n",
       "    </tr>\n",
       "    <tr>\n",
       "      <th>12</th>\n",
       "      <td>words</td>\n",
       "    </tr>\n",
       "    <tr>\n",
       "      <th>13</th>\n",
       "      <td>strin</td>\n",
       "    </tr>\n",
       "    <tr>\n",
       "      <th>14</th>\n",
       "      <td>The</td>\n",
       "    </tr>\n",
       "    <tr>\n",
       "      <th>15</th>\n",
       "      <td>use</td>\n",
       "    </tr>\n",
       "    <tr>\n",
       "      <th>16</th>\n",
       "      <td>the</td>\n",
       "    </tr>\n",
       "    <tr>\n",
       "      <th>17</th>\n",
       "      <td>compi</td>\n",
       "    </tr>\n",
       "    <tr>\n",
       "      <th>18</th>\n",
       "      <td>metho</td>\n",
       "    </tr>\n",
       "    <tr>\n",
       "      <th>19</th>\n",
       "      <td>manda</td>\n",
       "    </tr>\n",
       "    <tr>\n",
       "      <th>20</th>\n",
       "      <td>tory</td>\n",
       "    </tr>\n",
       "  </tbody>\n",
       "</table>\n",
       "</div>"
      ],
      "text/plain": [
       "        0\n",
       "0   Creat\n",
       "1   funct\n",
       "2     ion\n",
       "3   pytho\n",
       "4    find\n",
       "5     all\n",
       "6   three\n",
       "7    four\n",
       "8     and\n",
       "9    five\n",
       "10  chara\n",
       "11   cter\n",
       "12  words\n",
       "13  strin\n",
       "14    The\n",
       "15    use\n",
       "16    the\n",
       "17  compi\n",
       "18  metho\n",
       "19  manda\n",
       "20   tory"
      ]
     },
     "execution_count": 80,
     "metadata": {},
     "output_type": "execute_result"
    }
   ],
   "source": [
    "patten_4=re.compile('\\w{3,5}')\n",
    "match_4=re.findall(patten_4,t4)\n",
    "match_4=pd.DataFrame(match_4)\n",
    "match_4"
   ]
  },
  {
   "cell_type": "code",
   "execution_count": null,
   "id": "3e9c8072-d8ae-452a-be63-16a96e9184ba",
   "metadata": {},
   "outputs": [],
   "source": []
  },
  {
   "cell_type": "markdown",
   "id": "a50fd99c-574d-4c22-b1ce-35dbf551d2e7",
   "metadata": {},
   "source": [
    "# Question 5- Create a function in Python to remove the parenthesis in a list of strings. The use of the re.compile() method is mandatory.\n",
    "# Sample Text: [\"example (.com)\", \"hr@fliprobo (.com)\", \"github (.com)\", \"Hello (Data Science World)\", \"Data (Scientist)\"]\n",
    "# Expected Output:\n",
    "# example.com\n",
    "# hr@fliprobo.com\n",
    "# github.com\n",
    "# Hello Data Science World\n",
    "# Data Scientist"
   ]
  },
  {
   "cell_type": "code",
   "execution_count": 138,
   "id": "fa74921e-72ef-49b2-910b-8dc3d9a53330",
   "metadata": {},
   "outputs": [
    {
     "data": {
      "text/html": [
       "<div>\n",
       "<style scoped>\n",
       "    .dataframe tbody tr th:only-of-type {\n",
       "        vertical-align: middle;\n",
       "    }\n",
       "\n",
       "    .dataframe tbody tr th {\n",
       "        vertical-align: top;\n",
       "    }\n",
       "\n",
       "    .dataframe thead th {\n",
       "        text-align: right;\n",
       "    }\n",
       "</style>\n",
       "<table border=\"1\" class=\"dataframe\">\n",
       "  <thead>\n",
       "    <tr style=\"text-align: right;\">\n",
       "      <th></th>\n",
       "      <th>0</th>\n",
       "    </tr>\n",
       "  </thead>\n",
       "  <tbody>\n",
       "    <tr>\n",
       "      <th>0</th>\n",
       "      <td>example (.com)</td>\n",
       "    </tr>\n",
       "    <tr>\n",
       "      <th>1</th>\n",
       "      <td>hr@fliprobo (.com)</td>\n",
       "    </tr>\n",
       "    <tr>\n",
       "      <th>2</th>\n",
       "      <td>github (.com)</td>\n",
       "    </tr>\n",
       "    <tr>\n",
       "      <th>3</th>\n",
       "      <td>Hello (Data Science World)</td>\n",
       "    </tr>\n",
       "    <tr>\n",
       "      <th>4</th>\n",
       "      <td>Data (Scientist)</td>\n",
       "    </tr>\n",
       "  </tbody>\n",
       "</table>\n",
       "</div>"
      ],
      "text/plain": [
       "                            0\n",
       "0              example (.com)\n",
       "1          hr@fliprobo (.com)\n",
       "2               github (.com)\n",
       "3  Hello (Data Science World)\n",
       "4            Data (Scientist)"
      ]
     },
     "execution_count": 138,
     "metadata": {},
     "output_type": "execute_result"
    }
   ],
   "source": [
    "t5=[\"example (.com)\", \"hr@fliprobo (.com)\", \"github (.com)\", \"Hello (Data Science World)\", \"Data (Scientist)\"]\n",
    "t_5=pd.DataFrame(t5)\n",
    "t_5"
   ]
  },
  {
   "cell_type": "code",
   "execution_count": 140,
   "id": "21629d50-8127-4a0e-98c0-ae8f6ed92270",
   "metadata": {},
   "outputs": [
    {
     "data": {
      "text/html": [
       "<div>\n",
       "<style scoped>\n",
       "    .dataframe tbody tr th:only-of-type {\n",
       "        vertical-align: middle;\n",
       "    }\n",
       "\n",
       "    .dataframe tbody tr th {\n",
       "        vertical-align: top;\n",
       "    }\n",
       "\n",
       "    .dataframe thead th {\n",
       "        text-align: right;\n",
       "    }\n",
       "</style>\n",
       "<table border=\"1\" class=\"dataframe\">\n",
       "  <thead>\n",
       "    <tr style=\"text-align: right;\">\n",
       "      <th></th>\n",
       "      <th>0</th>\n",
       "    </tr>\n",
       "  </thead>\n",
       "  <tbody>\n",
       "    <tr>\n",
       "      <th>0</th>\n",
       "      <td>example .com</td>\n",
       "    </tr>\n",
       "    <tr>\n",
       "      <th>1</th>\n",
       "      <td>hr@fliprobo .com</td>\n",
       "    </tr>\n",
       "    <tr>\n",
       "      <th>2</th>\n",
       "      <td>github .com</td>\n",
       "    </tr>\n",
       "    <tr>\n",
       "      <th>3</th>\n",
       "      <td>Hello Data Science World</td>\n",
       "    </tr>\n",
       "    <tr>\n",
       "      <th>4</th>\n",
       "      <td>Data Scientist</td>\n",
       "    </tr>\n",
       "  </tbody>\n",
       "</table>\n",
       "</div>"
      ],
      "text/plain": [
       "                          0\n",
       "0              example .com\n",
       "1          hr@fliprobo .com\n",
       "2               github .com\n",
       "3  Hello Data Science World\n",
       "4            Data Scientist"
      ]
     },
     "execution_count": 140,
     "metadata": {},
     "output_type": "execute_result"
    }
   ],
   "source": [
    "pattern_5=re.compile('[()]')\n",
    "\n",
    "def m5(text):\n",
    "    return re.sub(pattern_5,\"\",text)\n",
    "t_5[0]=t_5[0].apply(m5)\n",
    "t_5"
   ]
  },
  {
   "cell_type": "markdown",
   "id": "70aff6a5-c306-4528-9d4a-a865862524b0",
   "metadata": {},
   "source": [
    "# Question 6- Write a python program to remove the parenthesis area from the text stored in the text file using Regular Expression.\r",
    "# \n",
    "Sample Text: [\"example (.com)\", \"hr@fliprobo (.com)\", \"github (.com)\", \"Hello (Data Science World)\", \"Data (Scientist)\"]# \n",
    "Expected Output: [\"example\", \"hr@fliprobo\", \"github\", \"Hello\", \"Data# \"]\r\n",
    "Note- Store given sample text in the text file and then to remove the parenthesis area from the text.\r\n"
   ]
  },
  {
   "cell_type": "code",
   "execution_count": 185,
   "id": "dbc5c342-1116-49ee-9e38-35cbc2f896e7",
   "metadata": {},
   "outputs": [
    {
     "data": {
      "text/html": [
       "<div>\n",
       "<style scoped>\n",
       "    .dataframe tbody tr th:only-of-type {\n",
       "        vertical-align: middle;\n",
       "    }\n",
       "\n",
       "    .dataframe tbody tr th {\n",
       "        vertical-align: top;\n",
       "    }\n",
       "\n",
       "    .dataframe thead th {\n",
       "        text-align: right;\n",
       "    }\n",
       "</style>\n",
       "<table border=\"1\" class=\"dataframe\">\n",
       "  <thead>\n",
       "    <tr style=\"text-align: right;\">\n",
       "      <th></th>\n",
       "      <th>0</th>\n",
       "    </tr>\n",
       "  </thead>\n",
       "  <tbody>\n",
       "    <tr>\n",
       "      <th>0</th>\n",
       "      <td>example (.com)</td>\n",
       "    </tr>\n",
       "    <tr>\n",
       "      <th>1</th>\n",
       "      <td>hr@fliprobo (.com)</td>\n",
       "    </tr>\n",
       "    <tr>\n",
       "      <th>2</th>\n",
       "      <td>github (.com)</td>\n",
       "    </tr>\n",
       "    <tr>\n",
       "      <th>3</th>\n",
       "      <td>Hello (Data Science World)</td>\n",
       "    </tr>\n",
       "    <tr>\n",
       "      <th>4</th>\n",
       "      <td>Data (Scientist)</td>\n",
       "    </tr>\n",
       "  </tbody>\n",
       "</table>\n",
       "</div>"
      ],
      "text/plain": [
       "                            0\n",
       "0              example (.com)\n",
       "1          hr@fliprobo (.com)\n",
       "2               github (.com)\n",
       "3  Hello (Data Science World)\n",
       "4            Data (Scientist)"
      ]
     },
     "execution_count": 185,
     "metadata": {},
     "output_type": "execute_result"
    }
   ],
   "source": [
    "t6 =[\"example (.com)\", \"hr@fliprobo (.com)\", \"github (.com)\", \"Hello (Data Science World)\", \"Data (Scientist)\"]\n",
    "t_6=pd.DataFrame(t6)\n",
    "t_6"
   ]
  },
  {
   "cell_type": "code",
   "execution_count": 191,
   "id": "3ddb6931-29ab-4572-b842-17a399fdef10",
   "metadata": {},
   "outputs": [
    {
     "data": {
      "text/html": [
       "<div>\n",
       "<style scoped>\n",
       "    .dataframe tbody tr th:only-of-type {\n",
       "        vertical-align: middle;\n",
       "    }\n",
       "\n",
       "    .dataframe tbody tr th {\n",
       "        vertical-align: top;\n",
       "    }\n",
       "\n",
       "    .dataframe thead th {\n",
       "        text-align: right;\n",
       "    }\n",
       "</style>\n",
       "<table border=\"1\" class=\"dataframe\">\n",
       "  <thead>\n",
       "    <tr style=\"text-align: right;\">\n",
       "      <th></th>\n",
       "      <th>0</th>\n",
       "    </tr>\n",
       "  </thead>\n",
       "  <tbody>\n",
       "    <tr>\n",
       "      <th>0</th>\n",
       "      <td>example</td>\n",
       "    </tr>\n",
       "    <tr>\n",
       "      <th>1</th>\n",
       "      <td>hr@fliprobo</td>\n",
       "    </tr>\n",
       "    <tr>\n",
       "      <th>2</th>\n",
       "      <td>github</td>\n",
       "    </tr>\n",
       "    <tr>\n",
       "      <th>3</th>\n",
       "      <td>Hello</td>\n",
       "    </tr>\n",
       "    <tr>\n",
       "      <th>4</th>\n",
       "      <td>Data</td>\n",
       "    </tr>\n",
       "  </tbody>\n",
       "</table>\n",
       "</div>"
      ],
      "text/plain": [
       "              0\n",
       "0      example \n",
       "1  hr@fliprobo \n",
       "2       github \n",
       "3        Hello \n",
       "4         Data "
      ]
     },
     "execution_count": 191,
     "metadata": {},
     "output_type": "execute_result"
    }
   ],
   "source": [
    "pattern_6=re.compile(r'\\b*\\(.*\\)')\n",
    "\n",
    "def m6(text):\n",
    "    return re.sub(pattern_6,\"\",text)\n",
    "t_6[0]=t_6[0].apply(m6)\n",
    "t_6"
   ]
  },
  {
   "cell_type": "markdown",
   "id": "0c505be5-63a7-4322-8a1e-ecff6c781125",
   "metadata": {},
   "source": [
    "# Question 7- Write a regular expression in Python to split a string into uppercase letters.\r",
    "# \n",
    "Sample text: “ImportanceOfRegularExpressionsInPython”# \r\n",
    "Expected Output: [‘Importance’, ‘Of’, ‘Regular’, ‘Expression’, ‘In’, ‘Python’]\r\n"
   ]
  },
  {
   "cell_type": "code",
   "execution_count": 221,
   "id": "09bda3e4-f743-47a0-abb7-8715811f01cb",
   "metadata": {},
   "outputs": [],
   "source": [
    "t7= 'ImportanceOfRegularExpressionsInPython'"
   ]
  },
  {
   "cell_type": "code",
   "execution_count": 225,
   "id": "29aba96c-98f3-42f7-91e9-f144a624d19e",
   "metadata": {},
   "outputs": [
    {
     "data": {
      "text/plain": [
       "['', 'Importance', 'Of', 'Regular', 'Expressions', 'In', 'Python']"
      ]
     },
     "execution_count": 225,
     "metadata": {},
     "output_type": "execute_result"
    }
   ],
   "source": [
    "pattern_7=re.compile(r'(?=[A-Z])')\n",
    "match_7=re.split(pattern_7,t7)\n",
    "match_7"
   ]
  },
  {
   "cell_type": "code",
   "execution_count": null,
   "id": "e7cf25ff-72aa-4d3b-bf46-5316798b50de",
   "metadata": {},
   "outputs": [],
   "source": []
  },
  {
   "cell_type": "markdown",
   "id": "cc38dc9f-6b63-4ea1-b00e-899fea8c6100",
   "metadata": {},
   "source": [
    "# Question 8- Create a function in python to insert spaces between words starting with numbers.\n",
    "Sample Text: “RegularExpression1IsAn2ImportantTopic3InPython\r\n",
    "Expected Output: RegularExpression 1IsAn 2ImportantTopic 3InPython\r\n"
   ]
  },
  {
   "cell_type": "code",
   "execution_count": 269,
   "id": "a3f218be-56bc-43e4-97a9-2baf036d3dd7",
   "metadata": {},
   "outputs": [],
   "source": [
    "t8='RegularExpression1IsAn2ImportantTopic3InPython'"
   ]
  },
  {
   "cell_type": "code",
   "execution_count": 273,
   "id": "6d732b26-1727-4e62-9008-20c2647c1d2a",
   "metadata": {},
   "outputs": [
    {
     "data": {
      "text/plain": [
       "['RegularExpression', '1IsAn', '2ImportantTopic', '3InPython']"
      ]
     },
     "execution_count": 273,
     "metadata": {},
     "output_type": "execute_result"
    }
   ],
   "source": [
    "pattern_8=re.compile(r'(?=[0-9])')\n",
    "match_8=re.split(pattern_8,t8)\n",
    "match_8"
   ]
  },
  {
   "cell_type": "code",
   "execution_count": null,
   "id": "6685fd30-b5fa-4a11-b3cf-033a578845ff",
   "metadata": {},
   "outputs": [],
   "source": []
  },
  {
   "cell_type": "markdown",
   "id": "1ac98a7d-dc80-4575-97d3-7034448e5ef2",
   "metadata": {},
   "source": [
    "# Question 9- Create a function in python to insert spaces between words starting with capital letters or with numbers.\r",
    " # \n",
    "Sample Text: “RegularExpression1IsAn2ImportantTopic3InPython\"  # \r\n",
    "Expected Output:  RegularExpression 1 IsAn 2 ImportantTopic 3 InPython\r\n"
   ]
  },
  {
   "cell_type": "code",
   "execution_count": 296,
   "id": "11dcff0c-9470-4dba-95ba-392251194683",
   "metadata": {},
   "outputs": [],
   "source": [
    "t9= 'RegularExpression1IsAn2ImportantTopic3InPython'"
   ]
  },
  {
   "cell_type": "code",
   "execution_count": 360,
   "id": "af49e7d2-fbc2-43f2-9566-9cabd45a5cdd",
   "metadata": {},
   "outputs": [
    {
     "name": "stdout",
     "output_type": "stream",
     "text": [
      "RegularExpression 1 IsAn 2 ImportantTopic 3 InPython\n"
     ]
    }
   ],
   "source": [
    "def insert_spaces_before_after_digits(text):\n",
    "    result = re.sub(r'(\\d+)', r' \\1 ', text)\n",
    "    \n",
    "    result = re.sub(r'\\s+', ' ', result)\n",
    "    \n",
    "    return result\n",
    "    \n",
    "match_9= insert_spaces_before_after_digits(t9)\n",
    "print(match_9)"
   ]
  },
  {
   "cell_type": "markdown",
   "id": "375cd506-843e-49a7-a568-162b34daf56a",
   "metadata": {},
   "source": [
    "# Question 10- Use the github link below to read the data and create a dataframe. After creating the dataframe extract the first 6 letters of each country and store in the dataframe under a new column called first_five_letters.\r",
    "# \n",
    "Github Link-  https://raw.githubusercontent.com/dsrscientist/DSData/master/happiness_score_dataset.csv\r\n"
   ]
  },
  {
   "cell_type": "code",
   "execution_count": 372,
   "id": "f0cab7ab-1616-42b3-b3f0-c6ec11f8e3db",
   "metadata": {},
   "outputs": [
    {
     "data": {
      "text/html": [
       "<div>\n",
       "<style scoped>\n",
       "    .dataframe tbody tr th:only-of-type {\n",
       "        vertical-align: middle;\n",
       "    }\n",
       "\n",
       "    .dataframe tbody tr th {\n",
       "        vertical-align: top;\n",
       "    }\n",
       "\n",
       "    .dataframe thead th {\n",
       "        text-align: right;\n",
       "    }\n",
       "</style>\n",
       "<table border=\"1\" class=\"dataframe\">\n",
       "  <thead>\n",
       "    <tr style=\"text-align: right;\">\n",
       "      <th></th>\n",
       "      <th>Country</th>\n",
       "      <th>Region</th>\n",
       "      <th>Happiness Rank</th>\n",
       "      <th>Happiness Score</th>\n",
       "      <th>Standard Error</th>\n",
       "      <th>Economy (GDP per Capita)</th>\n",
       "      <th>Family</th>\n",
       "      <th>Health (Life Expectancy)</th>\n",
       "      <th>Freedom</th>\n",
       "      <th>Trust (Government Corruption)</th>\n",
       "      <th>Generosity</th>\n",
       "      <th>Dystopia Residual</th>\n",
       "    </tr>\n",
       "  </thead>\n",
       "  <tbody>\n",
       "    <tr>\n",
       "      <th>0</th>\n",
       "      <td>Switzerland</td>\n",
       "      <td>Western Europe</td>\n",
       "      <td>1</td>\n",
       "      <td>7.587</td>\n",
       "      <td>0.03411</td>\n",
       "      <td>1.39651</td>\n",
       "      <td>1.34951</td>\n",
       "      <td>0.94143</td>\n",
       "      <td>0.66557</td>\n",
       "      <td>0.41978</td>\n",
       "      <td>0.29678</td>\n",
       "      <td>2.51738</td>\n",
       "    </tr>\n",
       "    <tr>\n",
       "      <th>1</th>\n",
       "      <td>Iceland</td>\n",
       "      <td>Western Europe</td>\n",
       "      <td>2</td>\n",
       "      <td>7.561</td>\n",
       "      <td>0.04884</td>\n",
       "      <td>1.30232</td>\n",
       "      <td>1.40223</td>\n",
       "      <td>0.94784</td>\n",
       "      <td>0.62877</td>\n",
       "      <td>0.14145</td>\n",
       "      <td>0.43630</td>\n",
       "      <td>2.70201</td>\n",
       "    </tr>\n",
       "    <tr>\n",
       "      <th>2</th>\n",
       "      <td>Denmark</td>\n",
       "      <td>Western Europe</td>\n",
       "      <td>3</td>\n",
       "      <td>7.527</td>\n",
       "      <td>0.03328</td>\n",
       "      <td>1.32548</td>\n",
       "      <td>1.36058</td>\n",
       "      <td>0.87464</td>\n",
       "      <td>0.64938</td>\n",
       "      <td>0.48357</td>\n",
       "      <td>0.34139</td>\n",
       "      <td>2.49204</td>\n",
       "    </tr>\n",
       "    <tr>\n",
       "      <th>3</th>\n",
       "      <td>Norway</td>\n",
       "      <td>Western Europe</td>\n",
       "      <td>4</td>\n",
       "      <td>7.522</td>\n",
       "      <td>0.03880</td>\n",
       "      <td>1.45900</td>\n",
       "      <td>1.33095</td>\n",
       "      <td>0.88521</td>\n",
       "      <td>0.66973</td>\n",
       "      <td>0.36503</td>\n",
       "      <td>0.34699</td>\n",
       "      <td>2.46531</td>\n",
       "    </tr>\n",
       "    <tr>\n",
       "      <th>4</th>\n",
       "      <td>Canada</td>\n",
       "      <td>North America</td>\n",
       "      <td>5</td>\n",
       "      <td>7.427</td>\n",
       "      <td>0.03553</td>\n",
       "      <td>1.32629</td>\n",
       "      <td>1.32261</td>\n",
       "      <td>0.90563</td>\n",
       "      <td>0.63297</td>\n",
       "      <td>0.32957</td>\n",
       "      <td>0.45811</td>\n",
       "      <td>2.45176</td>\n",
       "    </tr>\n",
       "    <tr>\n",
       "      <th>...</th>\n",
       "      <td>...</td>\n",
       "      <td>...</td>\n",
       "      <td>...</td>\n",
       "      <td>...</td>\n",
       "      <td>...</td>\n",
       "      <td>...</td>\n",
       "      <td>...</td>\n",
       "      <td>...</td>\n",
       "      <td>...</td>\n",
       "      <td>...</td>\n",
       "      <td>...</td>\n",
       "      <td>...</td>\n",
       "    </tr>\n",
       "    <tr>\n",
       "      <th>153</th>\n",
       "      <td>Rwanda</td>\n",
       "      <td>Sub-Saharan Africa</td>\n",
       "      <td>154</td>\n",
       "      <td>3.465</td>\n",
       "      <td>0.03464</td>\n",
       "      <td>0.22208</td>\n",
       "      <td>0.77370</td>\n",
       "      <td>0.42864</td>\n",
       "      <td>0.59201</td>\n",
       "      <td>0.55191</td>\n",
       "      <td>0.22628</td>\n",
       "      <td>0.67042</td>\n",
       "    </tr>\n",
       "    <tr>\n",
       "      <th>154</th>\n",
       "      <td>Benin</td>\n",
       "      <td>Sub-Saharan Africa</td>\n",
       "      <td>155</td>\n",
       "      <td>3.340</td>\n",
       "      <td>0.03656</td>\n",
       "      <td>0.28665</td>\n",
       "      <td>0.35386</td>\n",
       "      <td>0.31910</td>\n",
       "      <td>0.48450</td>\n",
       "      <td>0.08010</td>\n",
       "      <td>0.18260</td>\n",
       "      <td>1.63328</td>\n",
       "    </tr>\n",
       "    <tr>\n",
       "      <th>155</th>\n",
       "      <td>Syria</td>\n",
       "      <td>Middle East and Northern Africa</td>\n",
       "      <td>156</td>\n",
       "      <td>3.006</td>\n",
       "      <td>0.05015</td>\n",
       "      <td>0.66320</td>\n",
       "      <td>0.47489</td>\n",
       "      <td>0.72193</td>\n",
       "      <td>0.15684</td>\n",
       "      <td>0.18906</td>\n",
       "      <td>0.47179</td>\n",
       "      <td>0.32858</td>\n",
       "    </tr>\n",
       "    <tr>\n",
       "      <th>156</th>\n",
       "      <td>Burundi</td>\n",
       "      <td>Sub-Saharan Africa</td>\n",
       "      <td>157</td>\n",
       "      <td>2.905</td>\n",
       "      <td>0.08658</td>\n",
       "      <td>0.01530</td>\n",
       "      <td>0.41587</td>\n",
       "      <td>0.22396</td>\n",
       "      <td>0.11850</td>\n",
       "      <td>0.10062</td>\n",
       "      <td>0.19727</td>\n",
       "      <td>1.83302</td>\n",
       "    </tr>\n",
       "    <tr>\n",
       "      <th>157</th>\n",
       "      <td>Togo</td>\n",
       "      <td>Sub-Saharan Africa</td>\n",
       "      <td>158</td>\n",
       "      <td>2.839</td>\n",
       "      <td>0.06727</td>\n",
       "      <td>0.20868</td>\n",
       "      <td>0.13995</td>\n",
       "      <td>0.28443</td>\n",
       "      <td>0.36453</td>\n",
       "      <td>0.10731</td>\n",
       "      <td>0.16681</td>\n",
       "      <td>1.56726</td>\n",
       "    </tr>\n",
       "  </tbody>\n",
       "</table>\n",
       "<p>158 rows × 12 columns</p>\n",
       "</div>"
      ],
      "text/plain": [
       "         Country                           Region  Happiness Rank  \\\n",
       "0    Switzerland                   Western Europe               1   \n",
       "1        Iceland                   Western Europe               2   \n",
       "2        Denmark                   Western Europe               3   \n",
       "3         Norway                   Western Europe               4   \n",
       "4         Canada                    North America               5   \n",
       "..           ...                              ...             ...   \n",
       "153       Rwanda               Sub-Saharan Africa             154   \n",
       "154        Benin               Sub-Saharan Africa             155   \n",
       "155        Syria  Middle East and Northern Africa             156   \n",
       "156      Burundi               Sub-Saharan Africa             157   \n",
       "157         Togo               Sub-Saharan Africa             158   \n",
       "\n",
       "     Happiness Score  Standard Error  Economy (GDP per Capita)   Family  \\\n",
       "0              7.587         0.03411                   1.39651  1.34951   \n",
       "1              7.561         0.04884                   1.30232  1.40223   \n",
       "2              7.527         0.03328                   1.32548  1.36058   \n",
       "3              7.522         0.03880                   1.45900  1.33095   \n",
       "4              7.427         0.03553                   1.32629  1.32261   \n",
       "..               ...             ...                       ...      ...   \n",
       "153            3.465         0.03464                   0.22208  0.77370   \n",
       "154            3.340         0.03656                   0.28665  0.35386   \n",
       "155            3.006         0.05015                   0.66320  0.47489   \n",
       "156            2.905         0.08658                   0.01530  0.41587   \n",
       "157            2.839         0.06727                   0.20868  0.13995   \n",
       "\n",
       "     Health (Life Expectancy)  Freedom  Trust (Government Corruption)  \\\n",
       "0                     0.94143  0.66557                        0.41978   \n",
       "1                     0.94784  0.62877                        0.14145   \n",
       "2                     0.87464  0.64938                        0.48357   \n",
       "3                     0.88521  0.66973                        0.36503   \n",
       "4                     0.90563  0.63297                        0.32957   \n",
       "..                        ...      ...                            ...   \n",
       "153                   0.42864  0.59201                        0.55191   \n",
       "154                   0.31910  0.48450                        0.08010   \n",
       "155                   0.72193  0.15684                        0.18906   \n",
       "156                   0.22396  0.11850                        0.10062   \n",
       "157                   0.28443  0.36453                        0.10731   \n",
       "\n",
       "     Generosity  Dystopia Residual  \n",
       "0       0.29678            2.51738  \n",
       "1       0.43630            2.70201  \n",
       "2       0.34139            2.49204  \n",
       "3       0.34699            2.46531  \n",
       "4       0.45811            2.45176  \n",
       "..          ...                ...  \n",
       "153     0.22628            0.67042  \n",
       "154     0.18260            1.63328  \n",
       "155     0.47179            0.32858  \n",
       "156     0.19727            1.83302  \n",
       "157     0.16681            1.56726  \n",
       "\n",
       "[158 rows x 12 columns]"
      ]
     },
     "execution_count": 372,
     "metadata": {},
     "output_type": "execute_result"
    }
   ],
   "source": [
    "q10=pd.read_csv('https://raw.githubusercontent.com/dsrscientist/DSData/master/happiness_score_dataset.csv')\n",
    "q10"
   ]
  },
  {
   "cell_type": "code",
   "execution_count": 435,
   "id": "d6680b98-10a3-4fae-a12f-59d497e9fbb2",
   "metadata": {},
   "outputs": [
    {
     "data": {
      "text/html": [
       "<div>\n",
       "<style scoped>\n",
       "    .dataframe tbody tr th:only-of-type {\n",
       "        vertical-align: middle;\n",
       "    }\n",
       "\n",
       "    .dataframe tbody tr th {\n",
       "        vertical-align: top;\n",
       "    }\n",
       "\n",
       "    .dataframe thead th {\n",
       "        text-align: right;\n",
       "    }\n",
       "</style>\n",
       "<table border=\"1\" class=\"dataframe\">\n",
       "  <thead>\n",
       "    <tr style=\"text-align: right;\">\n",
       "      <th></th>\n",
       "      <th>first_six_letters</th>\n",
       "    </tr>\n",
       "  </thead>\n",
       "  <tbody>\n",
       "    <tr>\n",
       "      <th>0</th>\n",
       "      <td>Switze</td>\n",
       "    </tr>\n",
       "    <tr>\n",
       "      <th>1</th>\n",
       "      <td>Icelan</td>\n",
       "    </tr>\n",
       "    <tr>\n",
       "      <th>2</th>\n",
       "      <td>Denmar</td>\n",
       "    </tr>\n",
       "    <tr>\n",
       "      <th>3</th>\n",
       "      <td>Norway</td>\n",
       "    </tr>\n",
       "    <tr>\n",
       "      <th>4</th>\n",
       "      <td>Canada</td>\n",
       "    </tr>\n",
       "    <tr>\n",
       "      <th>...</th>\n",
       "      <td>...</td>\n",
       "    </tr>\n",
       "    <tr>\n",
       "      <th>153</th>\n",
       "      <td>Rwanda</td>\n",
       "    </tr>\n",
       "    <tr>\n",
       "      <th>154</th>\n",
       "      <td>Benin</td>\n",
       "    </tr>\n",
       "    <tr>\n",
       "      <th>155</th>\n",
       "      <td>Syria</td>\n",
       "    </tr>\n",
       "    <tr>\n",
       "      <th>156</th>\n",
       "      <td>Burund</td>\n",
       "    </tr>\n",
       "    <tr>\n",
       "      <th>157</th>\n",
       "      <td>Togo</td>\n",
       "    </tr>\n",
       "  </tbody>\n",
       "</table>\n",
       "<p>158 rows × 1 columns</p>\n",
       "</div>"
      ],
      "text/plain": [
       "    first_six_letters\n",
       "0              Switze\n",
       "1              Icelan\n",
       "2              Denmar\n",
       "3              Norway\n",
       "4              Canada\n",
       "..                ...\n",
       "153            Rwanda\n",
       "154             Benin\n",
       "155             Syria\n",
       "156            Burund\n",
       "157              Togo\n",
       "\n",
       "[158 rows x 1 columns]"
      ]
     },
     "execution_count": 435,
     "metadata": {},
     "output_type": "execute_result"
    }
   ],
   "source": [
    "df = pd.DataFrame(q10)\n",
    "\n",
    "def first_six_letters(country_name):\n",
    "    match = re.match(r'^[A-Za-z]{1,6}', country_name)\n",
    "    return match.group(0)\n",
    "\n",
    "df['first_six_letters'] = df['Country'].apply(first_six_letters)\n",
    "\n",
    "first_six_letters=pd.DataFrame(df['first_six_letters'])\n",
    "first_six_letters"
   ]
  },
  {
   "cell_type": "code",
   "execution_count": 376,
   "id": "87fe83b4-ad2c-49ee-9274-1798620f36fc",
   "metadata": {},
   "outputs": [],
   "source": []
  },
  {
   "cell_type": "markdown",
   "id": "99110459-5e8f-46e2-b49b-dcadb6c610af",
   "metadata": {},
   "source": [
    "# Question 11- Write a Python program to match a string that contains only upper and lowercase letters, numbers, and underscores."
   ]
  },
  {
   "cell_type": "code",
   "execution_count": 483,
   "id": "f3aa676a-576f-4e92-8848-f8da32dd0390",
   "metadata": {},
   "outputs": [
    {
     "name": "stdout",
     "output_type": "stream",
     "text": [
      "Not matched\n",
      "matched\n"
     ]
    },
    {
     "name": "stderr",
     "output_type": "stream",
     "text": [
      "<>:3: SyntaxWarning: invalid escape sequence '\\w'\n",
      "<>:3: SyntaxWarning: invalid escape sequence '\\w'\n",
      "C:\\Users\\Tejasvini Patil\\AppData\\Local\\Temp\\ipykernel_2724\\802390002.py:3: SyntaxWarning: invalid escape sequence '\\w'\n",
      "  patterns = '\\w+'\n"
     ]
    }
   ],
   "source": [
    "def text_match(text):\n",
    "        patterns = '\\w+'\n",
    "        if re.search(patterns,text):\n",
    "                return 'matched'\n",
    "        else:\n",
    "                return('Not matched')\n",
    "\n",
    "print(text_match(\"!@&^#%#\"))\n",
    "print(text_match(\"Karan_Patil_1992\"))"
   ]
  },
  {
   "cell_type": "code",
   "execution_count": null,
   "id": "e9de6fed-11c9-4a90-8551-37bb58c40f6f",
   "metadata": {},
   "outputs": [],
   "source": []
  },
  {
   "cell_type": "markdown",
   "id": "d93211fb-8a26-4097-827d-a5d8afbaf047",
   "metadata": {},
   "source": [
    "# Question 12- Write a Python program where a string will start with a specific number."
   ]
  },
  {
   "cell_type": "code",
   "execution_count": 526,
   "id": "fd1a9568-8419-4f36-be28-b49f2d91260b",
   "metadata": {},
   "outputs": [
    {
     "name": "stdout",
     "output_type": "stream",
     "text": [
      "Yes the first occruance matches in the given string \n",
      "None\n"
     ]
    }
   ],
   "source": [
    "def number_match(number):\n",
    "    text = re.compile(r\"^1\")\n",
    "    if text.match(number):\n",
    "        \n",
    "        print('Yes the first occruance matches in the given string ')\n",
    "    else:\n",
    "        print('No match found')\n",
    "print(number_match('15211611'))"
   ]
  },
  {
   "cell_type": "markdown",
   "id": "4919a756-fc2f-4975-bfe9-9dc497de4af7",
   "metadata": {},
   "source": [
    "# Question 13- Write a Python program to remove leading zeros from an IP address"
   ]
  },
  {
   "cell_type": "code",
   "execution_count": 537,
   "id": "59ed03fb-7c79-4674-9c9b-29e5a256ecfb",
   "metadata": {},
   "outputs": [
    {
     "name": "stdout",
     "output_type": "stream",
     "text": [
      ".192..168.5.5\n"
     ]
    },
    {
     "name": "stderr",
     "output_type": "stream",
     "text": [
      "<>:2: SyntaxWarning: invalid escape sequence '\\.'\n",
      "<>:2: SyntaxWarning: invalid escape sequence '\\.'\n",
      "C:\\Users\\Tejasvini Patil\\AppData\\Local\\Temp\\ipykernel_2724\\2464357881.py:2: SyntaxWarning: invalid escape sequence '\\.'\n",
      "  match_13 = re.sub('\\.[0]*', '.', ip)\n"
     ]
    }
   ],
   "source": [
    "ip = \".192.000.168.5.5\"\n",
    "match_13 = re.sub('\\.[0]*', '.', ip)\n",
    "print(match_13)"
   ]
  },
  {
   "cell_type": "markdown",
   "id": "7bc7826a-3dad-4291-97d2-30eb43a0df51",
   "metadata": {},
   "source": [
    "# Question 14- Write a regular expression in python to match a date string in the form of Month name followed by day number and year stored in a text file.\n",
    "\r",
    "# \n",
    "Sample text  ' On August 15th 1947 that India was declared independent from British colonialism, and the reins of control were handed over to the leaders of the Country’\n",
    ".# \r\n",
    "Expected Output- August 15th 19\n",
    "4# 7\r\n",
    "Note- Store given sample text in the text file and then extract the date string asked format.\r\n",
    ".\r\n"
   ]
  },
  {
   "cell_type": "code",
   "execution_count": 601,
   "id": "9a486dd9-3df1-4c90-8602-018b31c06d03",
   "metadata": {},
   "outputs": [
    {
     "name": "stdout",
     "output_type": "stream",
     "text": [
      "[('August', '15th', '1947')]\n"
     ]
    }
   ],
   "source": [
    "t14 = \"On August 15th 1947 that India was declared independent from British colonialism, and the reins of control were handed over to the leaders of the Country.\"\n",
    "\n",
    "pattern_14 = re.compile(r\"\\b([A-Z][a-z]+) (\\d{1,2}\\D{2}) (\\d{4})\\b\")\n",
    "\n",
    "matches_14 = re.findall(pattern_14,t14)\n",
    "print(matches_14)"
   ]
  },
  {
   "cell_type": "markdown",
   "id": "976d3f29-6512-40df-9ba3-7b42747329d6",
   "metadata": {},
   "source": [
    "# Question 15- Write a Python program to search some literals strings in a string. \r",
    "# \n",
    "Sample text : 'The quick brown fox jumps over the lazy dog.'# Searched words : 'fox', 'dog', 'horse'\r\n"
   ]
  },
  {
   "cell_type": "code",
   "execution_count": 678,
   "id": "ad31e4de-63ba-4c1f-8668-9c59acbaef2c",
   "metadata": {},
   "outputs": [
    {
     "name": "stdout",
     "output_type": "stream",
     "text": [
      "Matched\n"
     ]
    }
   ],
   "source": [
    "def text_match(text):\n",
    "    pattern_15 = re.compile('fox|dog|horse')\n",
    "    if re.search(pattern_15, text):\n",
    "        return 'Matched'\n",
    "    else:\n",
    "        return 'Not matched'\n",
    "\n",
    "print(text_match('The quick brown fox jumps over the lazy dog'))"
   ]
  },
  {
   "cell_type": "code",
   "execution_count": null,
   "id": "2e8f3f62-b734-4e2e-921b-92491d37933d",
   "metadata": {},
   "outputs": [],
   "source": []
  },
  {
   "cell_type": "markdown",
   "id": "95ac569f-8d6a-4cd2-a39a-2a4d62a5e0ca",
   "metadata": {},
   "source": [
    "# Question 16- Write a Python program to search a literals string in a string and also find the location within the original string where the pattern occurs\r\n",
    "Sample text : 'The quick brown fox jumps over the lazy dog.'\r\n",
    "Searched words : 'fox'\r\n"
   ]
  },
  {
   "cell_type": "code",
   "execution_count": 731,
   "id": "ac8b5746-58be-4295-88a3-673bc40a8b49",
   "metadata": {},
   "outputs": [
    {
     "name": "stdout",
     "output_type": "stream",
     "text": [
      "<re.Match object; span=(16, 19), match='fox'>\n"
     ]
    }
   ],
   "source": [
    "pattern_16 = 'fox'\n",
    "t16 = 'The quick brown fox jumps over the lazy dog.'\n",
    "match_16 = re.search(pattern_16,t16)\n",
    "print(match_16)\n"
   ]
  },
  {
   "cell_type": "code",
   "execution_count": null,
   "id": "83cb5a2b-ff38-4d61-8a67-1f51976b9da5",
   "metadata": {},
   "outputs": [],
   "source": []
  },
  {
   "cell_type": "markdown",
   "id": "1cfda530-b8dd-4590-9e83-e0f1fdb71f5d",
   "metadata": {},
   "source": [
    "# Question 17- Write a Python program to find the substrings within a string.\r\n",
    "Sample text : 'Python exercises, PHP exercises, C# exercises'\r\n",
    "Pattern : 'exercises'.\r\n"
   ]
  },
  {
   "cell_type": "code",
   "execution_count": 736,
   "id": "d2bb36f2-f2eb-4053-9139-3109a45c57d5",
   "metadata": {},
   "outputs": [
    {
     "name": "stdout",
     "output_type": "stream",
     "text": [
      "Matched\n"
     ]
    }
   ],
   "source": [
    "t17 = 'Python exercises, PHP exercises, C# exercises'\n",
    "pattern_17 = re.compile('exercises')\n",
    "if re.findall(pattern, text):\n",
    "    print('Matched')\n",
    "else:\n",
    "    print('Not found')"
   ]
  },
  {
   "cell_type": "code",
   "execution_count": null,
   "id": "788b4767-abae-4bd3-a84d-3b907fe4c4b3",
   "metadata": {},
   "outputs": [],
   "source": []
  },
  {
   "cell_type": "markdown",
   "id": "4295ba90-da77-408a-9531-1cfd3040c292",
   "metadata": {},
   "source": [
    "# Question 18- Write a Python program to find the occurrence and position of the substrings within a string."
   ]
  },
  {
   "cell_type": "code",
   "execution_count": 14,
   "id": "8139bf97-b706-4607-8548-58c0a8211422",
   "metadata": {},
   "outputs": [
    {
     "name": "stdout",
     "output_type": "stream",
     "text": [
      "exercises 7 16\n",
      "exercises 22 31\n",
      "exercises 36 45\n"
     ]
    }
   ],
   "source": [
    "t18 = 'Python exercises, PHP exercises, C# exercises'\n",
    "pattern_18 = 'exercises'\n",
    "for match in re.finditer(pattern_18,t18):\n",
    "    start = match.start()\n",
    "    end = match.end()\n",
    "    print(t18[start:end], start, end)"
   ]
  },
  {
   "cell_type": "code",
   "execution_count": null,
   "id": "6f5740d3-eb79-4314-9192-077daad88199",
   "metadata": {},
   "outputs": [],
   "source": []
  },
  {
   "cell_type": "markdown",
   "id": "b166d3c1-a17b-4e28-b276-4ceb90607480",
   "metadata": {},
   "source": [
    "# Question 19- Write a Python program to convert a date of yyyy-mm-dd format to dd-mm-yyyy format."
   ]
  },
  {
   "cell_type": "code",
   "execution_count": 21,
   "id": "4ef1a33c-a67e-4993-8e94-aace4f5e4ebe",
   "metadata": {},
   "outputs": [
    {
     "name": "stdout",
     "output_type": "stream",
     "text": [
      "Original date:  2026-01-02\n",
      "New date :  02-01-2026\n"
     ]
    }
   ],
   "source": [
    "def date_format(date):\n",
    "        return re.sub(r'(\\d{4})-(\\d{1,2})-(\\d{1,2})', '\\\\3-\\\\2-\\\\1', date)\n",
    "date_1 = \"2026-01-02\"\n",
    "print(\"Original date: \",date_1)\n",
    "print(\"New date : \",date_format(date_1))"
   ]
  },
  {
   "cell_type": "code",
   "execution_count": null,
   "id": "4a2f4710-d55b-40a8-8e4a-36f97329e616",
   "metadata": {},
   "outputs": [],
   "source": []
  },
  {
   "cell_type": "markdown",
   "id": "4884b6e7-0c93-45cc-9a91-de76198fd351",
   "metadata": {},
   "source": [
    "# Question 20- Create a function in python to find all decimal numbers with a precision of 1 or 2 in a string. The use of the re.compile() method is mandatory.\r\n",
    "Sample Text: \"01.12 0132.123 2.31875 145.8 3.01 27.25 0.25\"\r\n",
    "Expected Output: ['01.12', '145.8', '3.01', '27.25', '0.25']\r\n"
   ]
  },
  {
   "cell_type": "code",
   "execution_count": 20,
   "id": "36f36d60-e0d0-423a-b6d1-81c76a201a21",
   "metadata": {},
   "outputs": [],
   "source": [
    "t20=\"01.12 0132.123 2.31875 145.8 3.01 27.25 0.25\""
   ]
  },
  {
   "cell_type": "code",
   "execution_count": 22,
   "id": "c51fc20c-03bb-4c6c-9370-1663a6c3d75c",
   "metadata": {},
   "outputs": [
    {
     "name": "stdout",
     "output_type": "stream",
     "text": [
      "['01.12', '145.8', '3.01', '27.25', '0.25']\n"
     ]
    }
   ],
   "source": [
    "def decimal_numbers(number):\n",
    "    pattern_20=re.compile(r'\\b\\d+\\.\\d{1,2}\\b')\n",
    "    \n",
    "    matche_20 = pattern_20.findall(number)\n",
    "    \n",
    "    return matche_20\n",
    "\n",
    "result = decimal_numbers(t20)\n",
    "print(result)"
   ]
  },
  {
   "cell_type": "code",
   "execution_count": null,
   "id": "ab6afeca-c98f-4701-a387-bdfa83e63659",
   "metadata": {},
   "outputs": [],
   "source": []
  },
  {
   "cell_type": "markdown",
   "id": "bcc3f1e6-d736-402c-99b2-061b7f8c004c",
   "metadata": {},
   "source": [
    "# Question 21- Write a Python program to separate and print the numbers and their position of a given string."
   ]
  },
  {
   "cell_type": "code",
   "execution_count": 41,
   "id": "b73eba7c-e537-40d1-874f-05aa25aa5342",
   "metadata": {},
   "outputs": [
    {
     "name": "stdout",
     "output_type": "stream",
     "text": [
      "<regex.Match object; span=(9, 11), match='21'>\n"
     ]
    },
    {
     "name": "stderr",
     "output_type": "stream",
     "text": [
      "<>:3: SyntaxWarning: invalid escape sequence '\\d'\n",
      "<>:3: SyntaxWarning: invalid escape sequence '\\d'\n",
      "C:\\Users\\Tejasvini Patil\\AppData\\Local\\Temp\\ipykernel_4752\\4269213343.py:3: SyntaxWarning: invalid escape sequence '\\d'\n",
      "  for i in re.finditer(\"\\d+\",t21):\n"
     ]
    }
   ],
   "source": [
    "t21 = \"Question 21- Write a Python program to separate and print the numbers and their position of a given string.\"\n",
    "\n",
    "for i in re.finditer(\"\\d+\",t21):\n",
    "    print(i)"
   ]
  },
  {
   "cell_type": "markdown",
   "id": "9bc187f1-ca08-4c9a-ab34-4a3993704d25",
   "metadata": {},
   "source": [
    "# Question 22- Write a regular expression in python program to extract maximum/largest numeric value from a string.\n",
    "# Sample Text:  'My marks in each semester are: 947, 896, 926, 524, 734, 950, 642'\n",
    "# Expected Output: 950\n"
   ]
  },
  {
   "cell_type": "code",
   "execution_count": 56,
   "id": "b997ae32-7630-47c1-9c14-2d490410c553",
   "metadata": {},
   "outputs": [
    {
     "name": "stdout",
     "output_type": "stream",
     "text": [
      "extract largest numeric:  950\n"
     ]
    }
   ],
   "source": [
    "import heapq\n",
    "t22 = 'My marks in each semester are: 947, 896, 926, 524, 734, 950, 642'\n",
    "pattern_22 = re.findall(r'\\d+', t22)\n",
    "largest_number = heapq.nlargest(1, pattern_22)[0]\n",
    "print('extract largest numeric: ',largest_number)"
   ]
  },
  {
   "cell_type": "code",
   "execution_count": null,
   "id": "77a0689f-e859-4372-81b1-a7e342a92556",
   "metadata": {},
   "outputs": [],
   "source": []
  },
  {
   "cell_type": "markdown",
   "id": "cda78075-14e1-4e6f-ab01-70dadc123bd8",
   "metadata": {},
   "source": [
    "# Question 23- Create a function in python to insert spaces between words starting with capital letters.\r",
    "# \n",
    "Sample Text: “RegularExpressionIsAnImportantTopicInPython\"# \r\n",
    "Expected Output: Regular Expression Is An Important Topic In Python\r\n"
   ]
  },
  {
   "cell_type": "code",
   "execution_count": 63,
   "id": "ddd4ba6c-2167-417f-9114-5b3885218110",
   "metadata": {},
   "outputs": [],
   "source": [
    "t23='RegularExpressionIsAnImportantTopicInPython'"
   ]
  },
  {
   "cell_type": "code",
   "execution_count": 71,
   "id": "332c7df7-24a8-450d-851d-6946b3342302",
   "metadata": {},
   "outputs": [
    {
     "data": {
      "text/plain": [
       "'Regula xpressio   mportan opi  ython'"
      ]
     },
     "execution_count": 71,
     "metadata": {},
     "output_type": "execute_result"
    }
   ],
   "source": [
    "pattern_23=re.compile(r\"(\\w)([A-Z])\")\n",
    "match_23=re.sub(pattern_23,\" \",t23)\n",
    "match_23"
   ]
  },
  {
   "cell_type": "code",
   "execution_count": 103,
   "id": "259a6f26-df7d-4f93-8a7e-8096d083b15d",
   "metadata": {},
   "outputs": [],
   "source": [
    "def spaces(text):\n",
    "    \n",
    "    spaced= re.sub(r'([a-z])([A-Z])', r'\\1 \\2', t23)\n",
    "    \n",
    "    return spaced"
   ]
  },
  {
   "cell_type": "code",
   "execution_count": 105,
   "id": "4761aef6-3951-4c30-8abe-328fd0bad4ec",
   "metadata": {},
   "outputs": [
    {
     "name": "stdout",
     "output_type": "stream",
     "text": [
      "Result: Regular Expression Is An Important Topic In Python\n"
     ]
    }
   ],
   "source": [
    "result = spaces(t23)\n",
    "\n",
    "print(\"Result:\", output)"
   ]
  },
  {
   "cell_type": "markdown",
   "id": "b62947ac-4801-4815-9938-711d41244fc6",
   "metadata": {},
   "source": [
    "# Question 24- Python regex to find sequences of one upper case letter followed by lower case letters"
   ]
  },
  {
   "cell_type": "code",
   "execution_count": 146,
   "id": "c528de8f-7c51-485a-a52d-5dbaf34f1af6",
   "metadata": {},
   "outputs": [],
   "source": [
    "t24='Python regex to find sequences of one upper case letter followed by lower case letters'"
   ]
  },
  {
   "cell_type": "code",
   "execution_count": 175,
   "id": "dbb558b2-1cf3-4dd9-8fa3-1dbcddea321e",
   "metadata": {},
   "outputs": [
    {
     "name": "stdout",
     "output_type": "stream",
     "text": [
      "matched\n",
      "Matches: ['Hello', 'Learning', 'Python', 'Regex', 'Techniques']\n"
     ]
    }
   ],
   "source": [
    "def upper_lower_case(text):\n",
    "\n",
    "    \n",
    "        pattern_24 = re.compile(r'[A-Z][a-z]+')\n",
    "    \n",
    "        if re.findall(pattern_24, text):\n",
    "            return ('matched')\n",
    "        else:\n",
    "            return('Not matched')\n",
    "            \n",
    "print(upper_lower_case(t24))\n",
    "print(\"Matches:\", matches)"
   ]
  },
  {
   "cell_type": "code",
   "execution_count": null,
   "id": "5afd79e1-eff4-46e3-89df-98ee4231ed6b",
   "metadata": {},
   "outputs": [],
   "source": []
  },
  {
   "cell_type": "markdown",
   "id": "c0dd482e-6c16-4fe6-b1e9-81a3fe4b2f17",
   "metadata": {},
   "source": [
    "# Question 25- Write a Python program to remove continuous duplicate words from Sentence using Regular Expression.\r",
    "# \n",
    "Sample Text: \"Hello hello world world\"# \r\n",
    "Expected Output: Hello hello world\r\n"
   ]
  },
  {
   "cell_type": "code",
   "execution_count": 3,
   "id": "5b130d53-0121-4dfb-936f-121776271a09",
   "metadata": {},
   "outputs": [],
   "source": [
    "t25= \"Hello hello world world\""
   ]
  },
  {
   "cell_type": "code",
   "execution_count": 95,
   "id": "30d5aae4-3c4a-43ed-a80a-cba783798636",
   "metadata": {},
   "outputs": [
    {
     "data": {
      "text/plain": [
       "'Hello hello world'"
      ]
     },
     "execution_count": 95,
     "metadata": {},
     "output_type": "execute_result"
    }
   ],
   "source": [
    "pattern_25 = re.compile(r'\\b(\\w+)\\b(\\s+\\1\\b)+')\n",
    "\n",
    "match_25 = re.sub(pattern_25, r'\\1', t25)\n",
    "\n",
    "match_25"
   ]
  },
  {
   "cell_type": "code",
   "execution_count": null,
   "id": "43150ee8-4921-4fb4-8ea5-3ef34886fbcc",
   "metadata": {},
   "outputs": [],
   "source": []
  },
  {
   "cell_type": "code",
   "execution_count": null,
   "id": "b8bca9bd-a6a9-45ad-897a-a147f10a4152",
   "metadata": {},
   "outputs": [],
   "source": []
  },
  {
   "cell_type": "markdown",
   "id": "64e4167a-a778-47fe-a559-f5434f81e7ef",
   "metadata": {},
   "source": [
    "# Question 26-  Write a python program using RegEx to accept string ending with alphanumeric character."
   ]
  },
  {
   "cell_type": "code",
   "execution_count": 109,
   "id": "b840bde9-9b85-43bd-8985-bba36263edfa",
   "metadata": {},
   "outputs": [
    {
     "data": {
      "text/html": [
       "<div>\n",
       "<style scoped>\n",
       "    .dataframe tbody tr th:only-of-type {\n",
       "        vertical-align: middle;\n",
       "    }\n",
       "\n",
       "    .dataframe tbody tr th {\n",
       "        vertical-align: top;\n",
       "    }\n",
       "\n",
       "    .dataframe thead th {\n",
       "        text-align: right;\n",
       "    }\n",
       "</style>\n",
       "<table border=\"1\" class=\"dataframe\">\n",
       "  <thead>\n",
       "    <tr style=\"text-align: right;\">\n",
       "      <th></th>\n",
       "      <th>0</th>\n",
       "    </tr>\n",
       "  </thead>\n",
       "  <tbody>\n",
       "    <tr>\n",
       "      <th>0</th>\n",
       "      <td>Hello123</td>\n",
       "    </tr>\n",
       "    <tr>\n",
       "      <th>1</th>\n",
       "      <td>Welcome!</td>\n",
       "    </tr>\n",
       "  </tbody>\n",
       "</table>\n",
       "</div>"
      ],
      "text/plain": [
       "          0\n",
       "0  Hello123\n",
       "1  Welcome!"
      ]
     },
     "execution_count": 109,
     "metadata": {},
     "output_type": "execute_result"
    }
   ],
   "source": [
    "t26= [\"Hello123\", \"Welcome!\"]\n",
    "t_26=pd.DataFrame(t26)\n",
    "t_26"
   ]
  },
  {
   "cell_type": "code",
   "execution_count": 144,
   "id": "358e051f-9a94-4e1d-8baa-e0d0c48d3dd9",
   "metadata": {},
   "outputs": [
    {
     "data": {
      "text/plain": [
       "0     True\n",
       "1    False\n",
       "Name: Ends_With_Alphanumeric, dtype: bool"
      ]
     },
     "execution_count": 144,
     "metadata": {},
     "output_type": "execute_result"
    }
   ],
   "source": [
    "t26= [\"Hello123\", \"Welcome!\"]\n",
    "t_26=pd.DataFrame(t26)\n",
    "\n",
    "def alphanumeric(text):\n",
    "    pattern_26=re.compile( r'[a-zA-Z0-9]$')\n",
    "    \n",
    "    if re.search(pattern_26, text):\n",
    "        return True\n",
    "    else:\n",
    "        return False\n",
    "        \n",
    "t_26['Ends_With_Alphanumeric'] = t_26[0].apply(alphanumeric)\n",
    "t_26['Ends_With_Alphanumeric']"
   ]
  },
  {
   "cell_type": "code",
   "execution_count": null,
   "id": "de058e28-48cf-41a1-96f9-550e50b68795",
   "metadata": {},
   "outputs": [],
   "source": []
  },
  {
   "cell_type": "markdown",
   "id": "317d62ef-b2e5-4411-a38d-fd5b428d6c97",
   "metadata": {},
   "source": [
    "# Question 27-Write a python program using RegEx to extract the hashtags.\n",
    "# Sample Text:  \"\"\"RT @kapil_kausik: #Doltiwal I mean #xyzabc is \"hurt\" by #Demonetization as the same has rendered USELESS <ed><U+00A0><U+00BD><ed><U+00B1><U+0089> \"acquired funds\" No wo\"\"\"\n",
    "# Expected Output: ['#Doltiwal', '#xyzabc', '#Demonetization']\n"
   ]
  },
  {
   "cell_type": "code",
   "execution_count": 150,
   "id": "8972a990-5a66-487a-807f-33d79e98a011",
   "metadata": {},
   "outputs": [],
   "source": [
    "t27= \"\"\"RT @kapil_kausik: #Doltiwal I mean #xyzabc is \"hurt\" by #Demonetization as the same has rendered USELESS <U+00A0><U+00BD><U+00B1><U+0089> \"acquired funds\" No wo\"\"\""
   ]
  },
  {
   "cell_type": "code",
   "execution_count": 158,
   "id": "69b15dd8-8eae-4c90-a867-8f3162ef6647",
   "metadata": {},
   "outputs": [
    {
     "data": {
      "text/plain": [
       "['#Doltiwal', '#xyzabc', '#Demonetization']"
      ]
     },
     "execution_count": 158,
     "metadata": {},
     "output_type": "execute_result"
    }
   ],
   "source": [
    "match_27 = re.findall(r'#\\w+', t27)\n",
    "match_27"
   ]
  },
  {
   "cell_type": "code",
   "execution_count": null,
   "id": "1f0e71a6-708e-44c9-bc4e-f98b470df033",
   "metadata": {},
   "outputs": [],
   "source": []
  },
  {
   "cell_type": "markdown",
   "id": "59cc24bb-8fd8-4804-bb75-65661872fbfc",
   "metadata": {},
   "source": [
    "# Question 28- Write a python program using RegEx to remove <U+..> like symbols\n",
    "# Check the below sample text, there are strange symbols something of the sort <U+..> all over the place. You need to come up with a general Regex expression that will cover all such symbols.\n",
    "# Sample Text: \"@Jags123456 Bharat band on 28??<ed><U+00A0><U+00BD><ed><U+00B8><U+0082>Those who  are protesting #demonetization  are all different party leaders\"\n",
    "# Expected Output: @Jags123456 Bharat band on 28??<ed><ed>Those who  are protesting #demonetization  are all different party leaders\n"
   ]
  },
  {
   "cell_type": "code",
   "execution_count": 163,
   "id": "684c6fde-8513-4939-81ab-c4dbee0a2311",
   "metadata": {},
   "outputs": [],
   "source": [
    "t28=\"@Jags123456 Bharat band on 28??<U+00A0><U+00BD><U+00B8><U+0082>Those who are protesting #demonetization are all different party leaders\""
   ]
  },
  {
   "cell_type": "code",
   "execution_count": 165,
   "id": "b67838f4-761b-496f-ac23-7bfa576a08b4",
   "metadata": {},
   "outputs": [
    {
     "data": {
      "text/plain": [
       "'@Jags123456 Bharat band on 28??Those who are protesting #demonetization are all different party leaders'"
      ]
     },
     "execution_count": 165,
     "metadata": {},
     "output_type": "execute_result"
    }
   ],
   "source": [
    "pattern_28 = re.compile(r'<U\\+\\w+>')\n",
    "match_28 = re.sub(pattern_28, '', t28)\n",
    "match_28"
   ]
  },
  {
   "cell_type": "code",
   "execution_count": null,
   "id": "eb3fff8f-8496-4b59-810a-fb5661a840ad",
   "metadata": {},
   "outputs": [],
   "source": []
  },
  {
   "cell_type": "markdown",
   "id": "01d6995d-f596-4188-9323-4fe692ba8a4c",
   "metadata": {},
   "source": [
    "# Question 29- Write a python program to extract dates from the text stored in the text file.\r",
    "# \n",
    "Sample Text: Ron was born on 12-09-1992 and he was admitted to school 15-12-1999.# \r\n",
    "Note- Store this sample text in the file and then extract dates.\r\n"
   ]
  },
  {
   "cell_type": "code",
   "execution_count": 170,
   "id": "dbb891ca-0d9b-4c1b-93a0-64ed44fe51c1",
   "metadata": {},
   "outputs": [],
   "source": [
    "t29='Ron was born on 12-09-1992 and he was admitted to school 15-12-1999.'"
   ]
  },
  {
   "cell_type": "code",
   "execution_count": 191,
   "id": "36c1a22a-49c5-453c-ae81-20c609de33f6",
   "metadata": {},
   "outputs": [
    {
     "name": "stdout",
     "output_type": "stream",
     "text": [
      "Extracted Dates: ['12-09-1992', '15-12-1999']\n"
     ]
    }
   ],
   "source": [
    "string = 'Ron was born on 12-09-1992 and he was admitted to school 15-12-1999.'\n",
    "\n",
    "pattern_29= re.compile(r'\\d{2}-\\d{2}-\\d{4}')\n",
    "dates = re.findall(pattern_29, t29)\n",
    "\n",
    "print(\"Extracted Dates:\",dates)"
   ]
  },
  {
   "cell_type": "code",
   "execution_count": null,
   "id": "d70f1073-5b91-49f9-b298-24f179288c61",
   "metadata": {},
   "outputs": [],
   "source": []
  },
  {
   "cell_type": "markdown",
   "id": "abecdf84-f67f-4092-80f8-89f740bfde83",
   "metadata": {},
   "source": [
    "# Question 30- Create a function in python to remove all words from a string of length between 2 and 4.\n",
    "The use of the re.compile() method is mandatory\r\n",
    "Sample Text: \"The following example creates an ArrayList with a capacity of 50 elements. 4 elements are then added to the ArrayList and the ArrayList is trimmed accordingly\"\r\n",
    "Expected Output:  following example creates ArrayList a capacity elements. 4 elements added ArrayList ArrayList trimmed accordingly.\r\n"
   ]
  },
  {
   "cell_type": "code",
   "execution_count": 194,
   "id": "a70b1bfd-3cbe-4c36-8c52-57a454b6bdd9",
   "metadata": {},
   "outputs": [
    {
     "data": {
      "text/plain": [
       "' following example creates ArrayList with capacity elements elements then added ArrayList ArrayList trimmed accordingly.'"
      ]
     },
     "execution_count": 194,
     "metadata": {},
     "output_type": "execute_result"
    }
   ],
   "source": [
    "t30 = \"The following example creates an ArrayList with a capacity of 50 elements. 4 elements are then added to the ArrayList and the ArrayList is trimmed accordingly.\"\n",
    "pattern_30 = re.compile(r'\\W*\\b\\w{1,3}\\b')\n",
    "match_30=re.sub(pattern_30,\"\",t30)\n",
    "match_30"
   ]
  },
  {
   "cell_type": "code",
   "execution_count": null,
   "id": "c14f605c-5ac5-4186-9571-2b603e6679f8",
   "metadata": {},
   "outputs": [],
   "source": []
  }
 ],
 "metadata": {
  "kernelspec": {
   "display_name": "Python 3 (ipykernel)",
   "language": "python",
   "name": "python3"
  },
  "language_info": {
   "codemirror_mode": {
    "name": "ipython",
    "version": 3
   },
   "file_extension": ".py",
   "mimetype": "text/x-python",
   "name": "python",
   "nbconvert_exporter": "python",
   "pygments_lexer": "ipython3",
   "version": "3.12.4"
  }
 },
 "nbformat": 4,
 "nbformat_minor": 5
}
